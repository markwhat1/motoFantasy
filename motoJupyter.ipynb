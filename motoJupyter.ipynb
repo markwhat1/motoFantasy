{
 "cells": [
  {
   "cell_type": "code",
   "execution_count": 1,
   "metadata": {
    "collapsed": true
   },
   "outputs": [],
   "source": [
    "import pandas as pd\n",
    "import requests\n",
    "from bs4 import BeautifulSoup"
   ]
  },
  {
   "cell_type": "code",
   "execution_count": 9,
   "metadata": {},
   "outputs": [],
   "source": [
    "##################\n",
    "SX = True\n",
    "##################\n",
    "\n",
    "# Points Lists\n",
    "ptsSX = [25, 22, 20, 18, 16, 15, 14, 13, 12, 11,  # 1-10\n",
    "         10, 9, 8, 7, 6, 5, 4, 3, 2, 1, 1, 1]  # 11-22\n",
    "ptsMX = [25, 22, 20, 18, 16, 15, 14, 13, 12, 11, 10, 9, 8, 7, 6, 5, 4, 3,\n",
    "         2, 1, 0, 0, 0, 0, 0, 0, 0, 0, 0, 0, 0, 0, 0, 0, 0, 0, 0, 0, 0, 0]\n",
    "top10x2 = [50, 44, 40, 36, 32, 30, 28, 26, 24, 22]\n",
    "udogPtsSX = [50, 44, 40, 36, 32, 30, 28, 26, 24, 22,\n",
    "             10, 9, 8, 7, 6, 5, 4, 3, 2, 1, 1, 1]\n",
    "udogPtsMX = [50, 44, 40, 36, 32, 30, 28, 26, 24, 22, 10, 9, 8, 7, 6, 5, 4, 3,\n",
    "             2, 1, 0, 0, 0, 0, 0, 0, 0, 0, 0, 0, 0, 0, 0, 0, 0, 0, 0, 0, 0, 0]"
   ]
  },
  {
   "cell_type": "code",
   "execution_count": 10,
   "metadata": {},
   "outputs": [],
   "source": [
    "ptsSXdict = dict(zip(range(1, 23), ptsSX))\n",
    "udogPtsSXdict = dict(zip(range(1, 23), top10x2 + ptsSX[10:]))\n",
    "ptsMXdict = dict(zip(range(1, 41), ptsMX))\n",
    "udogPtsMXdict = dict(zip(range(1, 41), top10x2 + ptsMX[10:]))"
   ]
  },
  {
   "cell_type": "code",
   "execution_count": 11,
   "metadata": {},
   "outputs": [],
   "source": [
    "# MotocrossFantasy.com URLS\n",
    "mfUrl_base = 'https://www.motocrossfantasy.com/'\n",
    "mfUrl_results = 'https://www.motocrossfantasy.com/user/race-results'\n",
    "mfUrl_list_source = 'https://www.motocrossfantasy.com/user/team-status'\n",
    "\n",
    "# Chooce URLS based on which season it is\n",
    "if SX:\n",
    "    points, udogPoints = ptsSX, udogPtsSX\n",
    "    infoUrl = 'http://live.amasupercross.com/xml/sx/Announcements.json'\n",
    "    liveTimingUrl = 'http://live.amasupercross.com/xml/sx/RaceResultsWeb.xml'\n",
    "elif not SX:  # i.e. it is MX season\n",
    "    points, udogPoints = ptsMX, udogPtsMX\n",
    "    infoUrl = 'http://americanmotocrosslive.com/xml/mx/Announcements.json'\n",
    "    liveTimingUrl = 'http://americanmotocrosslive.com/xml/mx/RaceResultsWeb.xml'\n",
    "else:\n",
    "    print('...What season is it?')"
   ]
  },
  {
   "cell_type": "code",
   "execution_count": 12,
   "metadata": {},
   "outputs": [
    {
     "data": {
      "text/plain": [
       "<Response [200]>"
      ]
     },
     "execution_count": 12,
     "metadata": {},
     "output_type": "execute_result"
    }
   ],
   "source": [
    "def mf_auth():\n",
    "    username = 'markwhat'\n",
    "    password = 'yamaha'\n",
    "    payload = {\n",
    "        'login_username': username,\n",
    "        'login_password': password,\n",
    "        'login': 'true'\n",
    "    }\n",
    "    s = requests.Session()\n",
    "    s = s.post(mfUrl_base, data=payload)\n",
    "    return s"
   ]
  },
  {
   "cell_type": "code",
   "execution_count": 15,
   "metadata": {},
   "outputs": [
    {
     "ename": "AttributeError",
     "evalue": "'Response' object has no attribute 'get'",
     "traceback": [
      "\u001b[0;31m---------------------------------------------------------------------------\u001b[0m",
      "\u001b[0;31mAttributeError\u001b[0m                            Traceback (most recent call last)",
      "\u001b[0;32m<ipython-input-15-54befd48a761>\u001b[0m in \u001b[0;36m<module>\u001b[0;34m()\u001b[0m\n\u001b[1;32m     29\u001b[0m     \u001b[1;32mreturn\u001b[0m \u001b[0mdf\u001b[0m\u001b[1;33m\u001b[0m\u001b[0m\n\u001b[1;32m     30\u001b[0m \u001b[1;33m\u001b[0m\u001b[0m\n\u001b[0;32m---> 31\u001b[0;31m \u001b[0mmf_scrape\u001b[0m\u001b[1;33m(\u001b[0m\u001b[1;34m'https://www.motocrossfantasy.com/user/pick-riders/2017-SX/4020/409'\u001b[0m\u001b[1;33m,\u001b[0m \u001b[1;36m450\u001b[0m\u001b[1;33m)\u001b[0m\u001b[1;33m\u001b[0m\u001b[0m\n\u001b[0m",
      "\u001b[0;32m<ipython-input-15-54befd48a761>\u001b[0m in \u001b[0;36mmf_scrape\u001b[0;34m(url, division)\u001b[0m\n\u001b[1;32m      8\u001b[0m \u001b[1;33m\u001b[0m\u001b[0m\n\u001b[1;32m      9\u001b[0m     \u001b[0ms\u001b[0m \u001b[1;33m=\u001b[0m \u001b[0mmf_auth\u001b[0m\u001b[1;33m(\u001b[0m\u001b[1;33m)\u001b[0m\u001b[1;33m\u001b[0m\u001b[0m\n\u001b[0;32m---> 10\u001b[0;31m     \u001b[0mr\u001b[0m \u001b[1;33m=\u001b[0m \u001b[0ms\u001b[0m\u001b[1;33m.\u001b[0m\u001b[0mget\u001b[0m\u001b[1;33m(\u001b[0m\u001b[0murl\u001b[0m\u001b[1;33m)\u001b[0m\u001b[1;33m\u001b[0m\u001b[0m\n\u001b[0m\u001b[1;32m     11\u001b[0m     \u001b[0msoup\u001b[0m \u001b[1;33m=\u001b[0m \u001b[0mBeautifulSoup\u001b[0m\u001b[1;33m(\u001b[0m\u001b[0mr\u001b[0m\u001b[1;33m.\u001b[0m\u001b[0mtext\u001b[0m\u001b[1;33m,\u001b[0m \u001b[1;34m'lxml'\u001b[0m\u001b[1;33m)\u001b[0m\u001b[1;33m\u001b[0m\u001b[0m\n\u001b[1;32m     12\u001b[0m     \u001b[0mtables\u001b[0m \u001b[1;33m=\u001b[0m \u001b[0msoup\u001b[0m\u001b[1;33m.\u001b[0m\u001b[0mfind_all\u001b[0m\u001b[1;33m(\u001b[0m\u001b[1;34m'table'\u001b[0m\u001b[1;33m)\u001b[0m\u001b[1;33m\u001b[0m\u001b[0m\n",
      "\u001b[0;31mAttributeError\u001b[0m: 'Response' object has no attribute 'get'"
     ],
     "output_type": "error"
    }
   ],
   "source": [
    "def mf_scrape(url, division):\n",
    "    if division == 450:\n",
    "        index = 0\n",
    "    elif division == 250:\n",
    "        index = 1\n",
    "    else:\n",
    "        index = 0\n",
    "\n",
    "    s = mf_auth()\n",
    "    r = s.get(url)\n",
    "    soup = BeautifulSoup(r.text, 'lxml')\n",
    "    tables = soup.find_all('table')\n",
    "    mf_table = tables[index]\n",
    "\n",
    "    heads = mf_table.find_all('th')\n",
    "    headers = [th.text for th in heads]\n",
    "\n",
    "    data = [[] for i in range(len(headers))]\n",
    "    rows = mf_table.find_all('tr')\n",
    "    for row in rows:\n",
    "        cols = row.find_all('td')\n",
    "        for i in range(len(data)):\n",
    "            if len(cols) > 0:\n",
    "                data[i].append(cols[i].text)\n",
    "\n",
    "    df = pd.DataFrame(data)\n",
    "    df = df.transpose()\n",
    "    df.columns = headers\n",
    "    return df\n",
    "\n",
    "mf_scrape('https://www.motocrossfantasy.com/user/pick-riders/2017-SX/4020/409', 450)"
   ]
  },
  {
   "cell_type": "code",
   "execution_count": 14,
   "metadata": {},
   "outputs": [
    {
     "ename": "NameError",
     "evalue": "name 'mf_scrape' is not defined",
     "traceback": [
      "\u001b[0;31m---------------------------------------------------------------------------\u001b[0m",
      "\u001b[0;31mNameError\u001b[0m                                 Traceback (most recent call last)",
      "\u001b[0;32m<ipython-input-14-26418b080cf6>\u001b[0m in \u001b[0;36m<module>\u001b[0;34m()\u001b[0m\n\u001b[0;32m----> 1\u001b[0;31m \u001b[0mmf_scrape\u001b[0m\u001b[1;33m(\u001b[0m\u001b[1;34m'https://www.motocrossfantasy.com/user/pick-riders/2017-SX/4020/409'\u001b[0m\u001b[1;33m,\u001b[0m \u001b[1;36m450\u001b[0m\u001b[1;33m)\u001b[0m\u001b[1;33m\u001b[0m\u001b[0m\n\u001b[0m",
      "\u001b[0;31mNameError\u001b[0m: name 'mf_scrape' is not defined"
     ],
     "output_type": "error"
    }
   ],
   "source": [
    ""
   ]
  },
  {
   "cell_type": "code",
   "execution_count": null,
   "metadata": {},
   "outputs": [],
   "source": [
    ""
   ]
  }
 ],
 "metadata": {
  "kernelspec": {
   "display_name": "Python 2",
   "language": "python",
   "name": "python2"
  },
  "language_info": {
   "codemirror_mode": {
    "name": "ipython",
    "version": 2
   },
   "file_extension": ".py",
   "mimetype": "text/x-python",
   "name": "python",
   "nbconvert_exporter": "python",
   "pygments_lexer": "ipython2",
   "version": "2.7.6"
  }
 },
 "nbformat": 4,
 "nbformat_minor": 0
}
